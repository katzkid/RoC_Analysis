{
 "cells": [
  {
   "cell_type": "markdown",
   "metadata": {},
   "source": [
    "# RoC Analysis"
   ]
  },
  {
   "cell_type": "markdown",
   "metadata": {},
   "source": [
    "## Data Generation\n",
    "* Fix a beta* value and number of predictors\n",
    "* Create a Y vector using Bernoulli distribution for logit\n",
    "* Create a X vector using normal distribution as i.i.ds"
   ]
  },
  {
   "cell_type": "code",
   "execution_count": null,
   "metadata": {},
   "outputs": [],
   "source": [
    "no_predictors = 3\n",
    "no_samples = 100\n",
    "no_classes = 2\n",
    "\n",
    "\n",
    "\n",
    "import numpy as np\n",
    "import matplotlib.pyplot as plt\n",
    "import random\n",
    "\n",
    "# Generate random data\n",
    "np.random.seed(0)\n",
    "beta_star = np.random.randn(no_predictors)\n",
    "beta_star = beta_star / np.linalg.norm(beta_star)\n",
    "X = np.random.randn(no_samples, no_predictors)\n",
    "y = np.random.binomial(1, 1 / (1 + np.exp(-X @ beta_star)))"
   ]
  }
 ],
 "metadata": {
  "kernelspec": {
   "display_name": "MLlabs",
   "language": "python",
   "name": "python3"
  },
  "language_info": {
   "name": "python",
   "version": "3.12.7"
  }
 },
 "nbformat": 4,
 "nbformat_minor": 2
}
